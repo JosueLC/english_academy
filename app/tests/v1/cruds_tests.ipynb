{
 "cells": [
  {
   "cell_type": "code",
   "execution_count": 1,
   "metadata": {},
   "outputs": [],
   "source": [
    "import json\n",
    "import requests"
   ]
  },
  {
   "cell_type": "code",
   "execution_count": 2,
   "metadata": {},
   "outputs": [],
   "source": [
    "texts = open('/home/josuefarleylopez/Documents/Code/python/english_academy/app/core/assets/texts/begin_L1_0000.txt','r')"
   ]
  },
  {
   "cell_type": "code",
   "execution_count": 3,
   "metadata": {},
   "outputs": [
    {
     "data": {
      "text/plain": [
       "['She loves ketchup.\\n',\n",
       " 'She puts ketchup on fried chicken.\\n',\n",
       " 'She puts ketchup on french fries.\\n',\n",
       " 'She puts ketchup on eggs.\\n',\n",
       " 'She puts ketchup on hamburgers.\\n',\n",
       " 'She puts ketchup on hot dogs.\\n',\n",
       " 'She puts ketchup on fried shrimp.\\n',\n",
       " 'She puts ketchup on sandwiches.\\n',\n",
       " 'She even puts ketchup on candy.\\n',\n",
       " 'Sometimes, she drinks ketchup.\\n']"
      ]
     },
     "execution_count": 3,
     "metadata": {},
     "output_type": "execute_result"
    }
   ],
   "source": [
    "lines = texts.readlines()\n",
    "lines"
   ]
  },
  {
   "cell_type": "code",
   "execution_count": 29,
   "metadata": {},
   "outputs": [],
   "source": [
    "db_corpus = [\n",
    "    {\"line_number\":i,\n",
    "     \"text\":lines[i],\n",
    "     \"class_id\":'b1369689-5309-43d6-bf93-112f475cf3a6'\n",
    "    }\n",
    "    for i in range(len(lines))\n",
    "]"
   ]
  },
  {
   "cell_type": "code",
   "execution_count": 5,
   "metadata": {},
   "outputs": [],
   "source": [
    "def post_data(url,data):\n",
    "    headers = {\n",
    "        \"Content-Type\": \"application/json; charset=utf-8\"\n",
    "    }\n",
    "    #print(data)\n",
    "    r = requests.post(url=url,data=json.dumps(data),headers=headers)\n",
    "    if r.status_code != 200:\n",
    "        print(r.text)\n",
    "    return r"
   ]
  },
  {
   "cell_type": "code",
   "execution_count": 15,
   "metadata": {},
   "outputs": [],
   "source": [
    "r = post_data('http://localhost:8000/api/v1/texts/corpus',db_corpus)"
   ]
  },
  {
   "cell_type": "code",
   "execution_count": 41,
   "metadata": {},
   "outputs": [],
   "source": [
    "o=json.loads('{\"count\":10}')['count']"
   ]
  },
  {
   "cell_type": "code",
   "execution_count": 42,
   "metadata": {},
   "outputs": [
    {
     "data": {
      "text/plain": [
       "10"
      ]
     },
     "execution_count": 42,
     "metadata": {},
     "output_type": "execute_result"
    }
   ],
   "source": [
    "o"
   ]
  }
 ],
 "metadata": {
  "interpreter": {
   "hash": "80680a656cffc5bdfd7a882c57ec570dd5a1f66a6b118ee09d4e5c6e4e941921"
  },
  "kernelspec": {
   "display_name": "Python 3.10.1 64-bit ('.venv': venv)",
   "language": "python",
   "name": "python3"
  },
  "language_info": {
   "codemirror_mode": {
    "name": "ipython",
    "version": 3
   },
   "file_extension": ".py",
   "mimetype": "text/x-python",
   "name": "python",
   "nbconvert_exporter": "python",
   "pygments_lexer": "ipython3",
   "version": "3.10.1"
  },
  "orig_nbformat": 4
 },
 "nbformat": 4,
 "nbformat_minor": 2
}
